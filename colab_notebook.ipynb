{
  "cells": [
    {
      "cell_type": "code",
      "execution_count": null,
      "metadata": {
        "collapsed": true,
        "id": "3uftYuTbbTks"
      },
      "outputs": [],
      "source": [
        "import math\n",
        "from itertools import product"
      ]
    },
    {
      "cell_type": "code",
      "execution_count": null,
      "metadata": {
        "id": "lA__ecN3bTkt",
        "pycharm": {
          "name": "#%%\n"
        }
      },
      "outputs": [],
      "source": [
        "def deg2num(lat_deg, lon_deg, zoom):\n",
        "    '''\n",
        "        Convert latitude, longitude to (x,y) tile coordinate at given zoom.\n",
        "    '''\n",
        "    lat_rad = math.radians(lat_deg)\n",
        "    n = 2.0 ** zoom\n",
        "    xtile = int((lon_deg + 180.0) / 360.0 * n)\n",
        "    ytile = int((1.0 - math.asinh(math.tan(lat_rad)) / math.pi) / 2.0 * n)\n",
        "    return (xtile, ytile)"
      ]
    },
    {
      "cell_type": "code",
      "execution_count": null,
      "metadata": {},
      "outputs": [],
      "source": [
        "def num2deg(xtile, ytile, zoom):\n",
        "    '''\n",
        "        Convert (x,y) to latitude, longitude tile coordinate at given zoom.\n",
        "    '''\n",
        "    n = 2.0 ** zoom\n",
        "    lon_deg = xtile / n * 360.0 - 180.0\n",
        "    lat_rad = math.atan(math.sinh(math.pi * (1 - 2 * ytile / n)))\n",
        "    lat_deg = math.degrees(lat_rad)\n",
        "    return (lat_deg, lon_deg)"
      ]
    },
    {
      "cell_type": "code",
      "execution_count": null,
      "metadata": {},
      "outputs": [],
      "source": [
        "def tiles_url(zoom, lat1, lon1, lat2, lon2):\n",
        "    ''' \n",
        "        Convert geographic bounds into a list of tile_url coordinates at given zoom.\n",
        "    '''\n",
        "    # convert to geographic bounding box\n",
        "    minlat, minlon = min(lat1, lat2), min(lon1, lon2)\n",
        "    maxlat, maxlon = max(lat1, lat2), max(lon1, lon2)\n",
        "\n",
        "    # convert to tile-space bounding box\n",
        "    xmin, ymin = deg2num(maxlat, minlon, zoom)\n",
        "    xmax, ymax = deg2num(minlat, maxlon, zoom)\n",
        "\n",
        "    # generate a list of tiles_url\n",
        "    xs, ys = range(xmin, xmax+1), range(ymin, ymax+1)\n",
        "    tiles_url = [(f\"s3://elevation-tiles-prod//terrarium/{zoom}/{x}/{y}.png\") for (y, x) in product(ys, xs)]\n",
        "\n",
        "    return tiles_url"
      ]
    },
    {
      "cell_type": "code",
      "execution_count": null,
      "metadata": {},
      "outputs": [],
      "source": [
        "data = tiles_url(11, 30, -85, 24, -79)"
      ]
    },
    {
      "cell_type": "code",
      "execution_count": null,
      "metadata": {},
      "outputs": [],
      "source": [
        "df = spark.read.format(\"image\").load(data)\n",
        "df.show()"
      ]
    }
  ],
  "metadata": {
    "colab": {
      "provenance": []
    },
    "kernelspec": {
      "display_name": "Python 3",
      "language": "python",
      "name": "python3"
    },
    "language_info": {
      "codemirror_mode": {
        "name": "ipython",
        "version": 2
      },
      "file_extension": ".py",
      "mimetype": "text/x-python",
      "name": "python",
      "nbconvert_exporter": "python",
      "pygments_lexer": "ipython2",
      "version": "2.7.6"
    }
  },
  "nbformat": 4,
  "nbformat_minor": 0
}
