{
 "cells": [
  {
   "cell_type": "code",
   "execution_count": 1,
   "metadata": {
    "execution": {
     "iopub.execute_input": "2022-09-13T20:39:36.403001Z",
     "iopub.status.busy": "2022-09-13T20:39:36.402722Z",
     "iopub.status.idle": "2022-09-13T20:40:01.105128Z",
     "shell.execute_reply": "2022-09-13T20:40:01.104365Z",
     "shell.execute_reply.started": "2022-09-13T20:39:36.402973Z"
    },
    "id": "3uftYuTbbTks",
    "pycharm": {
     "is_executing": true
    },
    "tags": []
   },
   "outputs": [
    {
     "data": {
      "application/vnd.jupyter.widget-view+json": {
       "model_id": "68b1f2e8508c45f7aea4035be865cbcd",
       "version_major": 2,
       "version_minor": 0
      },
      "text/plain": [
       "VBox()"
      ]
     },
     "metadata": {},
     "output_type": "display_data"
    },
    {
     "name": "stdout",
     "output_type": "stream",
     "text": [
      "Starting Spark application\n"
     ]
    },
    {
     "data": {
      "text/html": [
       "<table>\n",
       "<tr><th>ID</th><th>YARN Application ID</th><th>Kind</th><th>State</th><th>Spark UI</th><th>Driver log</th><th>User</th><th>Current session?</th></tr><tr><td>2</td><td>application_1663095636739_0003</td><td>pyspark</td><td>idle</td><td><a target=\"_blank\" href=\"http://ip-172-31-47-74.ec2.internal:20888/proxy/application_1663095636739_0003/\" class=\"emr-proxy-link\" emr-resource=\"j-AAETOR2G04GA\n",
       "\" application-id=\"application_1663095636739_0003\">Link</a></td><td><a target=\"_blank\" href=\"http://ip-172-31-39-236.ec2.internal:8042/node/containerlogs/container_1663095636739_0003_01_000001/livy\" >Link</a></td><td>None</td><td>✔</td></tr></table>"
      ],
      "text/plain": [
       "<IPython.core.display.HTML object>"
      ]
     },
     "metadata": {},
     "output_type": "display_data"
    },
    {
     "data": {
      "application/vnd.jupyter.widget-view+json": {
       "model_id": "",
       "version_major": 2,
       "version_minor": 0
      },
      "text/plain": [
       "FloatProgress(value=0.0, bar_style='info', description='Progress:', layout=Layout(height='25px', width='50%'),…"
      ]
     },
     "metadata": {},
     "output_type": "display_data"
    },
    {
     "name": "stdout",
     "output_type": "stream",
     "text": [
      "SparkSession available as 'spark'.\n"
     ]
    },
    {
     "data": {
      "application/vnd.jupyter.widget-view+json": {
       "model_id": "",
       "version_major": 2,
       "version_minor": 0
      },
      "text/plain": [
       "FloatProgress(value=0.0, bar_style='info', description='Progress:', layout=Layout(height='25px', width='50%'),…"
      ]
     },
     "metadata": {},
     "output_type": "display_data"
    }
   ],
   "source": [
    "import math\n",
    "from itertools import product"
   ]
  },
  {
   "cell_type": "code",
   "execution_count": 2,
   "metadata": {
    "execution": {
     "iopub.execute_input": "2022-09-13T20:40:01.106820Z",
     "iopub.status.busy": "2022-09-13T20:40:01.106410Z",
     "iopub.status.idle": "2022-09-13T20:40:26.493235Z",
     "shell.execute_reply": "2022-09-13T20:40:26.492563Z",
     "shell.execute_reply.started": "2022-09-13T20:40:01.106780Z"
    },
    "tags": [],
    "vscode": {
     "languageId": "plaintext"
    }
   },
   "outputs": [
    {
     "data": {
      "application/vnd.jupyter.widget-view+json": {
       "model_id": "bcb7a0fa4fd347e48f95b6393aad5c3e",
       "version_major": 2,
       "version_minor": 0
      },
      "text/plain": [
       "VBox()"
      ]
     },
     "metadata": {},
     "output_type": "display_data"
    },
    {
     "data": {
      "application/vnd.jupyter.widget-view+json": {
       "model_id": "",
       "version_major": 2,
       "version_minor": 0
      },
      "text/plain": [
       "FloatProgress(value=0.0, bar_style='info', description='Progress:', layout=Layout(height='25px', width='50%'),…"
      ]
     },
     "metadata": {},
     "output_type": "display_data"
    },
    {
     "name": "stdout",
     "output_type": "stream",
     "text": [
      "Uninstalling pip-9.0.1:\n",
      "  Successfully uninstalled pip-9.0.1\n",
      "\n",
      "Collecting pip==22.2.2\n",
      "  Using cached pip-22.2.2-py3-none-any.whl (2.0 MB)\n",
      "Installing collected packages: pip\n",
      "Successfully installed pip-22.2.2\n",
      "\n",
      "Collecting opencv-python\n",
      "  Using cached opencv_python-4.6.0.66-cp36-abi3-manylinux_2_17_x86_64.manylinux2014_x86_64.whl (60.9 MB)\n",
      "Requirement already satisfied: numpy>=1.14.5 in /usr/local/lib64/python3.7/site-packages (from opencv-python) (1.20.0)\n",
      "Installing collected packages: opencv-python\n",
      "Successfully installed opencv-python-4.6.0.66\n",
      "\n",
      "Requirement already satisfied: numpy in /usr/local/lib64/python3.7/site-packages (1.20.0)\n",
      "\n",
      "Collecting matplotlib\n",
      "  Using cached matplotlib-3.5.3-cp37-cp37m-manylinux_2_5_x86_64.manylinux1_x86_64.whl (11.2 MB)\n",
      "Requirement already satisfied: numpy>=1.17 in /usr/local/lib64/python3.7/site-packages (from matplotlib) (1.20.0)\n",
      "Collecting cycler>=0.10\n",
      "  Using cached cycler-0.11.0-py3-none-any.whl (6.4 kB)\n",
      "Collecting fonttools>=4.22.0\n",
      "  Using cached fonttools-4.37.1-py3-none-any.whl (957 kB)\n",
      "Collecting kiwisolver>=1.0.1\n",
      "  Using cached kiwisolver-1.4.4-cp37-cp37m-manylinux_2_5_x86_64.manylinux1_x86_64.whl (1.1 MB)\n",
      "Collecting python-dateutil>=2.7\n",
      "  Using cached python_dateutil-2.8.2-py2.py3-none-any.whl (247 kB)\n",
      "Collecting packaging>=20.0\n",
      "  Using cached packaging-21.3-py3-none-any.whl (40 kB)\n",
      "Collecting pyparsing>=2.2.1\n",
      "  Using cached pyparsing-3.0.9-py3-none-any.whl (98 kB)\n",
      "Collecting pillow>=6.2.0\n",
      "  Using cached Pillow-9.2.0-cp37-cp37m-manylinux_2_17_x86_64.manylinux2014_x86_64.whl (3.1 MB)\n",
      "Collecting typing-extensions\n",
      "  Using cached typing_extensions-4.3.0-py3-none-any.whl (25 kB)\n",
      "Requirement already satisfied: six>=1.5 in /usr/local/lib/python3.7/site-packages (from python-dateutil>=2.7->matplotlib) (1.13.0)\n",
      "Installing collected packages: typing-extensions, python-dateutil, pyparsing, pillow, fonttools, cycler, packaging, kiwisolver, matplotlib\n",
      "Successfully installed cycler-0.11.0 fonttools-4.37.1 kiwisolver-1.4.4 matplotlib-3.5.3 packaging-21.3 pillow-9.2.0 pyparsing-3.0.9 python-dateutil-2.8.2 typing-extensions-4.3.0"
     ]
    }
   ],
   "source": [
    "sc.uninstall_package('pip')\n",
    "sc.install_pypi_package(\"pip==22.2.2\")\n",
    "sc.install_pypi_package(\"opencv-python\") #Install opencv-python \n",
    "sc.install_pypi_package(\"numpy\")\n",
    "sc.install_pypi_package(\"matplotlib\")"
   ]
  },
  {
   "cell_type": "code",
   "execution_count": 3,
   "metadata": {
    "execution": {
     "iopub.execute_input": "2022-09-13T20:40:26.494946Z",
     "iopub.status.busy": "2022-09-13T20:40:26.494736Z",
     "iopub.status.idle": "2022-09-13T20:40:26.550727Z",
     "shell.execute_reply": "2022-09-13T20:40:26.549930Z",
     "shell.execute_reply.started": "2022-09-13T20:40:26.494921Z"
    },
    "id": "lA__ecN3bTkt",
    "pycharm": {
     "is_executing": true,
     "name": "#%%\n"
    }
   },
   "outputs": [
    {
     "data": {
      "application/vnd.jupyter.widget-view+json": {
       "model_id": "667754115cba4d7d992aac9c82b3fd17",
       "version_major": 2,
       "version_minor": 0
      },
      "text/plain": [
       "VBox()"
      ]
     },
     "metadata": {},
     "output_type": "display_data"
    },
    {
     "data": {
      "application/vnd.jupyter.widget-view+json": {
       "model_id": "",
       "version_major": 2,
       "version_minor": 0
      },
      "text/plain": [
       "FloatProgress(value=0.0, bar_style='info', description='Progress:', layout=Layout(height='25px', width='50%'),…"
      ]
     },
     "metadata": {},
     "output_type": "display_data"
    }
   ],
   "source": [
    "def deg2num(lat_deg, lon_deg, zoom):\n",
    "    '''\n",
    "        Convert latitude, longitude to (x,y) tile coordinate at given zoom.\n",
    "    '''\n",
    "    lat_rad = math.radians(lat_deg)\n",
    "    n = 2.0**zoom\n",
    "    xtile = int((lon_deg + 180.0) / 360.0 * n)\n",
    "    ytile = int((1.0 - math.asinh(math.tan(lat_rad)) / math.pi) / 2.0 * n)\n",
    "    return (xtile, ytile)"
   ]
  },
  {
   "cell_type": "code",
   "execution_count": 4,
   "metadata": {
    "execution": {
     "iopub.execute_input": "2022-09-13T20:40:26.551998Z",
     "iopub.status.busy": "2022-09-13T20:40:26.551823Z",
     "iopub.status.idle": "2022-09-13T20:40:26.616719Z",
     "shell.execute_reply": "2022-09-13T20:40:26.616167Z",
     "shell.execute_reply.started": "2022-09-13T20:40:26.551975Z"
    },
    "pycharm": {
     "is_executing": true
    }
   },
   "outputs": [
    {
     "data": {
      "application/vnd.jupyter.widget-view+json": {
       "model_id": "62a0731841dd4a818adca3eb28ae6089",
       "version_major": 2,
       "version_minor": 0
      },
      "text/plain": [
       "VBox()"
      ]
     },
     "metadata": {},
     "output_type": "display_data"
    },
    {
     "data": {
      "application/vnd.jupyter.widget-view+json": {
       "model_id": "",
       "version_major": 2,
       "version_minor": 0
      },
      "text/plain": [
       "FloatProgress(value=0.0, bar_style='info', description='Progress:', layout=Layout(height='25px', width='50%'),…"
      ]
     },
     "metadata": {},
     "output_type": "display_data"
    }
   ],
   "source": [
    "def num2deg(xtile, ytile, zoom):\n",
    "    '''\n",
    "        Convert (x,y) to latitude, longitude tile coordinate at given zoom.\n",
    "    '''\n",
    "    n = 2.0**zoom\n",
    "    lon_deg = xtile / n * 360.0 - 180.0\n",
    "    lat_rad = math.atan(math.sinh(math.pi * (1 - 2 * ytile / n)))\n",
    "    lat_deg = math.degrees(lat_rad)\n",
    "    return (lat_deg, lon_deg)"
   ]
  },
  {
   "cell_type": "code",
   "execution_count": 5,
   "metadata": {
    "execution": {
     "iopub.execute_input": "2022-09-13T20:40:26.617791Z",
     "iopub.status.busy": "2022-09-13T20:40:26.617616Z",
     "iopub.status.idle": "2022-09-13T20:40:26.681615Z",
     "shell.execute_reply": "2022-09-13T20:40:26.680920Z",
     "shell.execute_reply.started": "2022-09-13T20:40:26.617769Z"
    },
    "pycharm": {
     "is_executing": true
    },
    "tags": []
   },
   "outputs": [
    {
     "data": {
      "application/vnd.jupyter.widget-view+json": {
       "model_id": "e62ecfa58ae84986bb644628e0515b71",
       "version_major": 2,
       "version_minor": 0
      },
      "text/plain": [
       "VBox()"
      ]
     },
     "metadata": {},
     "output_type": "display_data"
    },
    {
     "data": {
      "application/vnd.jupyter.widget-view+json": {
       "model_id": "",
       "version_major": 2,
       "version_minor": 0
      },
      "text/plain": [
       "FloatProgress(value=0.0, bar_style='info', description='Progress:', layout=Layout(height='25px', width='50%'),…"
      ]
     },
     "metadata": {},
     "output_type": "display_data"
    }
   ],
   "source": [
    "def tiles_url(zoom, lat1, lon1, lat2, lon2):\n",
    "    ''' \n",
    "        Convert geographic bounds into a list of tile_url coordinates at given zoom.\n",
    "    '''\n",
    "    # convert to geographic bounding box\n",
    "    minlat, minlon = min(lat1, lat2), min(lon1, lon2)\n",
    "    maxlat, maxlon = max(lat1, lat2), max(lon1, lon2)\n",
    "\n",
    "    # convert to tile-space bounding box\n",
    "    xmin, ymin = deg2num(maxlat, minlon, zoom)\n",
    "    xmax, ymax = deg2num(minlat, maxlon, zoom)\n",
    "\n",
    "    # generate a list of tiles_url\n",
    "    tiles_url = []\n",
    "    for x in range(xmin, xmax + 1):\n",
    "        for y in range(ymin, ymax + 1):\n",
    "            tiles_url.append((f\"s3://elevation-tiles-prod//terrarium/{zoom}/{x}/{y}.png\"))\n",
    "            \n",
    "\n",
    "    return tiles_url, (xmax - xmin) + 1, (ymax - ymin) + 1"
   ]
  },
  {
   "cell_type": "code",
   "execution_count": 6,
   "metadata": {
    "execution": {
     "iopub.execute_input": "2022-09-13T20:40:26.682789Z",
     "iopub.status.busy": "2022-09-13T20:40:26.682617Z",
     "iopub.status.idle": "2022-09-13T20:40:27.447673Z",
     "shell.execute_reply": "2022-09-13T20:40:27.447044Z",
     "shell.execute_reply.started": "2022-09-13T20:40:26.682766Z"
    },
    "pycharm": {
     "is_executing": true
    },
    "tags": []
   },
   "outputs": [
    {
     "data": {
      "application/vnd.jupyter.widget-view+json": {
       "model_id": "f1a7e9609442419f84148737ba76221f",
       "version_major": 2,
       "version_minor": 0
      },
      "text/plain": [
       "VBox()"
      ]
     },
     "metadata": {},
     "output_type": "display_data"
    },
    {
     "data": {
      "application/vnd.jupyter.widget-view+json": {
       "model_id": "",
       "version_major": 2,
       "version_minor": 0
      },
      "text/plain": [
       "FloatProgress(value=0.0, bar_style='info', description='Progress:', layout=Layout(height='25px', width='50%'),…"
      ]
     },
     "metadata": {},
     "output_type": "display_data"
    }
   ],
   "source": [
    "import numpy as np\n",
    "import cv2\n",
    "import matplotlib.pyplot as plt\n"
   ]
  },
  {
   "cell_type": "code",
   "execution_count": 7,
   "metadata": {
    "execution": {
     "iopub.execute_input": "2022-09-13T20:40:27.448743Z",
     "iopub.status.busy": "2022-09-13T20:40:27.448570Z",
     "iopub.status.idle": "2022-09-13T20:40:27.506319Z",
     "shell.execute_reply": "2022-09-13T20:40:27.505740Z",
     "shell.execute_reply.started": "2022-09-13T20:40:27.448721Z"
    },
    "tags": []
   },
   "outputs": [
    {
     "data": {
      "application/vnd.jupyter.widget-view+json": {
       "model_id": "78667f84855d4506b9f2a63d2eb220eb",
       "version_major": 2,
       "version_minor": 0
      },
      "text/plain": [
       "VBox()"
      ]
     },
     "metadata": {},
     "output_type": "display_data"
    },
    {
     "data": {
      "application/vnd.jupyter.widget-view+json": {
       "model_id": "",
       "version_major": 2,
       "version_minor": 0
      },
      "text/plain": [
       "FloatProgress(value=0.0, bar_style='info', description='Progress:', layout=Layout(height='25px', width='50%'),…"
      ]
     },
     "metadata": {},
     "output_type": "display_data"
    }
   ],
   "source": [
    "def plot_img(img):\n",
    "    plt.clf()\n",
    "    plt.gray()\n",
    "    plt.imshow(img)\n"
   ]
  },
  {
   "cell_type": "code",
   "execution_count": 8,
   "metadata": {
    "execution": {
     "iopub.execute_input": "2022-09-13T20:40:27.508865Z",
     "iopub.status.busy": "2022-09-13T20:40:27.508620Z",
     "iopub.status.idle": "2022-09-13T20:40:27.565197Z",
     "shell.execute_reply": "2022-09-13T20:40:27.564509Z",
     "shell.execute_reply.started": "2022-09-13T20:40:27.508837Z"
    },
    "tags": []
   },
   "outputs": [
    {
     "data": {
      "application/vnd.jupyter.widget-view+json": {
       "model_id": "ac26ba599ba34877b67de0e43263a75e",
       "version_major": 2,
       "version_minor": 0
      },
      "text/plain": [
       "VBox()"
      ]
     },
     "metadata": {},
     "output_type": "display_data"
    },
    {
     "data": {
      "application/vnd.jupyter.widget-view+json": {
       "model_id": "",
       "version_major": 2,
       "version_minor": 0
      },
      "text/plain": [
       "FloatProgress(value=0.0, bar_style='info', description='Progress:', layout=Layout(height='25px', width='50%'),…"
      ]
     },
     "metadata": {},
     "output_type": "display_data"
    }
   ],
   "source": [
    "def plot_map(combo,x_interval, y_interval):\n",
    "    \n",
    "    columns = [np.concatenate(combo[i*y_interval : (i+1)*y_interval], axis=0) for i in range(x_interval-1)]\n",
    "    mapp = np.concatenate(columns, axis=1)\n",
    "    \n",
    "    plt.clf()\n",
    "    #plt.gray()\n",
    "    plt.imshow(mapp)\n"
   ]
  },
  {
   "cell_type": "code",
   "execution_count": 9,
   "metadata": {
    "execution": {
     "iopub.execute_input": "2022-09-13T20:40:27.566503Z",
     "iopub.status.busy": "2022-09-13T20:40:27.566328Z",
     "iopub.status.idle": "2022-09-13T20:40:27.621710Z",
     "shell.execute_reply": "2022-09-13T20:40:27.621142Z",
     "shell.execute_reply.started": "2022-09-13T20:40:27.566480Z"
    },
    "tags": []
   },
   "outputs": [
    {
     "data": {
      "application/vnd.jupyter.widget-view+json": {
       "model_id": "ccdd845b819248be8fb8015b654ffd40",
       "version_major": 2,
       "version_minor": 0
      },
      "text/plain": [
       "VBox()"
      ]
     },
     "metadata": {},
     "output_type": "display_data"
    },
    {
     "data": {
      "application/vnd.jupyter.widget-view+json": {
       "model_id": "",
       "version_major": 2,
       "version_minor": 0
      },
      "text/plain": [
       "FloatProgress(value=0.0, bar_style='info', description='Progress:', layout=Layout(height='25px', width='50%'),…"
      ]
     },
     "metadata": {},
     "output_type": "display_data"
    }
   ],
   "source": [
    "def get_height(data):\n",
    "    (B, G, R) = cv2.split(data)\n",
    "    a = (R * 256.0 + G + B/256.0) - 32768.0\n",
    "    a = np.where(a>0, a, 0)\n",
    "    return a\n"
   ]
  },
  {
   "cell_type": "code",
   "execution_count": 117,
   "metadata": {
    "execution": {
     "iopub.execute_input": "2022-09-13T21:54:19.889544Z",
     "iopub.status.busy": "2022-09-13T21:54:19.889308Z",
     "iopub.status.idle": "2022-09-13T21:54:19.944488Z",
     "shell.execute_reply": "2022-09-13T21:54:19.943735Z",
     "shell.execute_reply.started": "2022-09-13T21:54:19.889517Z"
    },
    "tags": []
   },
   "outputs": [
    {
     "data": {
      "application/vnd.jupyter.widget-view+json": {
       "model_id": "545f6b96f0744d399e4085d1b3455b90",
       "version_major": 2,
       "version_minor": 0
      },
      "text/plain": [
       "VBox()"
      ]
     },
     "metadata": {},
     "output_type": "display_data"
    },
    {
     "data": {
      "application/vnd.jupyter.widget-view+json": {
       "model_id": "",
       "version_major": 2,
       "version_minor": 0
      },
      "text/plain": [
       "FloatProgress(value=0.0, bar_style='info', description='Progress:', layout=Layout(height='25px', width='50%'),…"
      ]
     },
     "metadata": {},
     "output_type": "display_data"
    }
   ],
   "source": [
    "def create_groups(data):\n",
    "    rdd = spark.sparkContext.parallelize(data)\n",
    "    means = rdd.map(lambda x: cv2.mean(x)).sortBy(lambda x: x[0]).collect()\n",
    "\n",
    "    amount = len(means)\n",
    "    groups = []\n",
    "    \"\"\"\n",
    "    Groups:\n",
    "    0 -> 30% of values\n",
    "    1 -> 30% - 45% of values\n",
    "    2 -> 45% - 60% of values\n",
    "    3 -> 60% - 80% of values\n",
    "    4 -> 80% - 95% of values\n",
    "    5 -> 90% - 100% of values\n",
    "    \n",
    "    \"\"\"\n",
    "    \n",
    "    groups.append(means[int(95*amount/100)][0])\n",
    "    groups.append(means[int(80*amount/100)][0])\n",
    "    groups.append(means[int(60*amount/100)][0])\n",
    "    groups.append(means[int(45*amount/100)][0])\n",
    "    groups.append(means[int(30*amount/100)][0])\n",
    "    \n",
    "    return groups\n",
    "\n"
   ]
  },
  {
   "cell_type": "code",
   "execution_count": 121,
   "metadata": {
    "execution": {
     "iopub.execute_input": "2022-09-13T21:56:51.089598Z",
     "iopub.status.busy": "2022-09-13T21:56:51.089363Z",
     "iopub.status.idle": "2022-09-13T21:56:51.160421Z",
     "shell.execute_reply": "2022-09-13T21:56:51.159834Z",
     "shell.execute_reply.started": "2022-09-13T21:56:51.089573Z"
    },
    "tags": []
   },
   "outputs": [
    {
     "data": {
      "application/vnd.jupyter.widget-view+json": {
       "model_id": "ac6ec2522ac542e0ab52a736314f084a",
       "version_major": 2,
       "version_minor": 0
      },
      "text/plain": [
       "VBox()"
      ]
     },
     "metadata": {},
     "output_type": "display_data"
    },
    {
     "data": {
      "application/vnd.jupyter.widget-view+json": {
       "model_id": "",
       "version_major": 2,
       "version_minor": 0
      },
      "text/plain": [
       "FloatProgress(value=0.0, bar_style='info', description='Progress:', layout=Layout(height='25px', width='50%'),…"
      ]
     },
     "metadata": {},
     "output_type": "display_data"
    }
   ],
   "source": [
    "def processing(arr_in, groups):\n",
    "    arr = arr_in\n",
    "    \n",
    "    arr = np.where(arr_in >= groups[0], 0, arr)\n",
    "    arr = np.where((groups[0] > arr_in) & (arr_in >= groups[1]), 1, arr)\n",
    "    arr = np.where((groups[1] > arr_in) & (arr_in >= groups[2]), 2, arr)\n",
    "    arr = np.where((groups[2] > arr_in) & (arr_in >= groups[3]), 3, arr)\n",
    "    arr = np.where((groups[3] > arr_in) & (arr_in >= groups[4]), 4, arr)\n",
    "    arr = np.where((groups[4] > arr_in), 5, arr)\n",
    "\n",
    "    return arr\n",
    "    "
   ]
  },
  {
   "cell_type": "code",
   "execution_count": 12,
   "metadata": {
    "execution": {
     "iopub.execute_input": "2022-09-13T20:40:27.749515Z",
     "iopub.status.busy": "2022-09-13T20:40:27.749348Z",
     "iopub.status.idle": "2022-09-13T20:40:27.803426Z",
     "shell.execute_reply": "2022-09-13T20:40:27.802840Z",
     "shell.execute_reply.started": "2022-09-13T20:40:27.749493Z"
    },
    "tags": []
   },
   "outputs": [
    {
     "data": {
      "application/vnd.jupyter.widget-view+json": {
       "model_id": "a1cd2bc1c4f6447ca262de74109de117",
       "version_major": 2,
       "version_minor": 0
      },
      "text/plain": [
       "VBox()"
      ]
     },
     "metadata": {},
     "output_type": "display_data"
    },
    {
     "data": {
      "application/vnd.jupyter.widget-view+json": {
       "model_id": "",
       "version_major": 2,
       "version_minor": 0
      },
      "text/plain": [
       "FloatProgress(value=0.0, bar_style='info', description='Progress:', layout=Layout(height='25px', width='50%'),…"
      ]
     },
     "metadata": {},
     "output_type": "display_data"
    }
   ],
   "source": [
    "def paint(data, groups):\n",
    "    rdd = spark.sparkContext.parallelize(data)\n",
    "    return rdd.map(lambda x: processing(x, groups)).collect()"
   ]
  },
  {
   "cell_type": "code",
   "execution_count": 21,
   "metadata": {
    "execution": {
     "iopub.execute_input": "2022-09-13T20:42:17.249636Z",
     "iopub.status.busy": "2022-09-13T20:42:17.249394Z",
     "iopub.status.idle": "2022-09-13T20:42:17.302266Z",
     "shell.execute_reply": "2022-09-13T20:42:17.301693Z",
     "shell.execute_reply.started": "2022-09-13T20:42:17.249609Z"
    },
    "tags": []
   },
   "outputs": [
    {
     "data": {
      "application/vnd.jupyter.widget-view+json": {
       "model_id": "2c808da5bc1e446f83410c3ebbdf2620",
       "version_major": 2,
       "version_minor": 0
      },
      "text/plain": [
       "VBox()"
      ]
     },
     "metadata": {},
     "output_type": "display_data"
    },
    {
     "data": {
      "application/vnd.jupyter.widget-view+json": {
       "model_id": "",
       "version_major": 2,
       "version_minor": 0
      },
      "text/plain": [
       "FloatProgress(value=0.0, bar_style='info', description='Progress:', layout=Layout(height='25px', width='50%'),…"
      ]
     },
     "metadata": {},
     "output_type": "display_data"
    }
   ],
   "source": [
    "import pyspark.sql.functions as F\n",
    "from pyspark.sql.types import IntegerType\n",
    "from pyspark.sql.functions import col, asc"
   ]
  },
  {
   "cell_type": "code",
   "execution_count": 14,
   "metadata": {
    "execution": {
     "iopub.execute_input": "2022-09-13T20:40:28.068390Z",
     "iopub.status.busy": "2022-09-13T20:40:28.068141Z",
     "iopub.status.idle": "2022-09-13T20:40:28.125369Z",
     "shell.execute_reply": "2022-09-13T20:40:28.124857Z",
     "shell.execute_reply.started": "2022-09-13T20:40:28.068356Z"
    }
   },
   "outputs": [
    {
     "data": {
      "application/vnd.jupyter.widget-view+json": {
       "model_id": "5d24bd9359a84c95b3d2bc955d2dfc51",
       "version_major": 2,
       "version_minor": 0
      },
      "text/plain": [
       "VBox()"
      ]
     },
     "metadata": {},
     "output_type": "display_data"
    },
    {
     "data": {
      "application/vnd.jupyter.widget-view+json": {
       "model_id": "",
       "version_major": 2,
       "version_minor": 0
      },
      "text/plain": [
       "FloatProgress(value=0.0, bar_style='info', description='Progress:', layout=Layout(height='25px', width='50%'),…"
      ]
     },
     "metadata": {},
     "output_type": "display_data"
    }
   ],
   "source": [
    "def to_idx(file):\n",
    "    out = int(file.split(\"/\")[5])\n",
    "    return out\n",
    "\n",
    "def to_idy(file):\n",
    "    out = file.split(\"/\")[6]\n",
    "    out = int(out.split(\".\")[0])\n",
    "    return out"
   ]
  },
  {
   "cell_type": "code",
   "execution_count": 123,
   "metadata": {
    "execution": {
     "iopub.execute_input": "2022-09-13T22:04:21.180312Z",
     "iopub.status.busy": "2022-09-13T22:04:21.180088Z",
     "iopub.status.idle": "2022-09-13T22:04:21.255180Z",
     "shell.execute_reply": "2022-09-13T22:04:21.254488Z",
     "shell.execute_reply.started": "2022-09-13T22:04:21.180287Z"
    },
    "tags": []
   },
   "outputs": [
    {
     "data": {
      "application/vnd.jupyter.widget-view+json": {
       "model_id": "c57652fe2e7c44b89ea127d526a047e0",
       "version_major": 2,
       "version_minor": 0
      },
      "text/plain": [
       "VBox()"
      ]
     },
     "metadata": {},
     "output_type": "display_data"
    },
    {
     "data": {
      "application/vnd.jupyter.widget-view+json": {
       "model_id": "",
       "version_major": 2,
       "version_minor": 0
      },
      "text/plain": [
       "FloatProgress(value=0.0, bar_style='info', description='Progress:', layout=Layout(height='25px', width='50%'),…"
      ]
     },
     "metadata": {},
     "output_type": "display_data"
    }
   ],
   "source": [
    "def main():\n",
    "    \n",
    "    AMERICA = (72.0, -168.0, -54.0, -25.0)\n",
    "    TEST = (30, -85, 24, -79)\n",
    "    \n",
    "    data, x_interval, y_interval = tiles_url(5, *AMERICA)\n",
    "    \n",
    "    \n",
    "    input_data = spark.read.format(\"image\").load(data)\n",
    "    input_data2 = input_data.select(\"image.origin\", \"image.data\")\n",
    "    \n",
    "    new_idx = F.udf(to_idx, IntegerType())\n",
    "    new_idy = F.udf(to_idy, IntegerType())\n",
    "\n",
    "    input_data2 = input_data2.withColumn(\"idx\", new_idx(\"origin\"))\n",
    "    input_data2 = input_data2.withColumn(\"idy\", new_idy(\"origin\"))\n",
    "    input_data2 = input_data2.orderBy(col(\"idx\").asc(), col(\"idy\").asc())\n",
    "    \n",
    "    images = input_data2.select(\"data\") #taking only sorted data = pixels\n",
    "    \n",
    "    \n",
    "    images = images.rdd.map(lambda img: np.reshape(img, (256,256,3))) #images<dateframe> to images<rdd>\n",
    "    images = images.map(get_height) \n",
    "          \n",
    "    # gradient \n",
    "    gX = images.map(lambda img: cv2.Sobel(img, cv2.CV_64F, 1, 0))\n",
    "    gY = images.map(lambda img: cv2.Sobel(img, cv2.CV_64F, 0, 1))\n",
    "\n",
    "    gx = np.asarray(gX.take(gX.count()))\n",
    "    gy = np.asarray(gY.take(gY.count()))\n",
    "\n",
    "    combined = np.sqrt(gx**2 + gy**2)\n",
    "\n",
    "\n",
    "    groups = create_groups(combined)\n",
    "  \n",
    "    painted = paint(combined, groups)\n",
    "\n",
    "    plot_map(painted, x_interval, y_interval)\n",
    "    plt.imsave('colored.png', painted)"
   ]
  },
  {
   "cell_type": "raw",
   "metadata": {},
   "source": []
  },
  {
   "cell_type": "code",
   "execution_count": 124,
   "metadata": {
    "execution": {
     "iopub.execute_input": "2022-09-13T22:04:23.228400Z",
     "iopub.status.busy": "2022-09-13T22:04:23.228145Z",
     "iopub.status.idle": "2022-09-13T22:04:40.671577Z",
     "shell.execute_reply": "2022-09-13T22:04:40.670955Z",
     "shell.execute_reply.started": "2022-09-13T22:04:23.228361Z"
    },
    "tags": []
   },
   "outputs": [
    {
     "data": {
      "application/vnd.jupyter.widget-view+json": {
       "model_id": "45fcadfe739b4d708ea1347b7c0c8c13",
       "version_major": 2,
       "version_minor": 0
      },
      "text/plain": [
       "VBox()"
      ]
     },
     "metadata": {},
     "output_type": "display_data"
    },
    {
     "data": {
      "application/vnd.jupyter.widget-view+json": {
       "model_id": "",
       "version_major": 2,
       "version_minor": 0
      },
      "text/plain": [
       "FloatProgress(value=0.0, bar_style='info', description='Progress:', layout=Layout(height='25px', width='50%'),…"
      ]
     },
     "metadata": {},
     "output_type": "display_data"
    },
    {
     "data": {
      "image/png": "[encoded data removed]",
      "text/plain": [
       "<IPython.core.display.Image object>"
      ]
     },
     "metadata": {},
     "output_type": "display_data"
    }
   ],
   "source": [
    "main()\n",
    "%matplot plt"
   ]
  }
 ],
 "metadata": {
  "colab": {
   "provenance": []
  },
  "kernelspec": {
   "display_name": "PySpark",
   "language": "python",
   "name": "pysparkkernel"
  },
  "language_info": {
   "codemirror_mode": {
    "name": "python",
    "version": 3
   },
   "file_extension": ".py",
   "mimetype": "text/x-python",
   "name": "pyspark",
   "pygments_lexer": "python3"
  },
  "toc-autonumbering": false,
  "toc-showcode": false,
  "toc-showmarkdowntxt": true
 },
 "nbformat": 4,
 "nbformat_minor": 4
}
