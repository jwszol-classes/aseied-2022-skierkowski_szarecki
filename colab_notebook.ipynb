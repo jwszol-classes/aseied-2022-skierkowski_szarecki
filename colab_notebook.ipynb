{
 "cells": [
  {
   "cell_type": "code",
   "execution_count": null,
   "metadata": {
    "execution": {
     "iopub.execute_input": "2022-09-09T16:56:57.386634Z",
     "iopub.status.busy": "2022-09-09T16:56:57.386406Z",
     "iopub.status.idle": "2022-09-09T16:57:24.061525Z",
     "shell.execute_reply": "2022-09-09T16:57:24.060996Z",
     "shell.execute_reply.started": "2022-09-09T16:56:57.386609Z"
    },
    "id": "3uftYuTbbTks",
    "tags": [],
    "pycharm": {
     "is_executing": true
    }
   },
   "outputs": [],
   "source": [
    "import math\n",
    "from itertools import product"
   ]
  },
  {
   "cell_type": "code",
   "execution_count": null,
   "metadata": {
    "execution": {
     "iopub.execute_input": "2022-09-09T16:57:24.062666Z",
     "iopub.status.busy": "2022-09-09T16:57:24.062490Z",
     "iopub.status.idle": "2022-09-09T16:57:24.166860Z",
     "shell.execute_reply": "2022-09-09T16:57:24.166228Z",
     "shell.execute_reply.started": "2022-09-09T16:57:24.062643Z"
    },
    "id": "lA__ecN3bTkt",
    "pycharm": {
     "name": "#%%\n",
     "is_executing": true
    }
   },
   "outputs": [],
   "source": [
    "def deg2num(lat_deg, lon_deg, zoom):\n",
    "    '''\n",
    "        Convert latitude, longitude to (x,y) tile coordinate at given zoom.\n",
    "    '''\n",
    "    lat_rad = math.radians(lat_deg)\n",
    "    n = 2.0**zoom\n",
    "    xtile = int((lon_deg + 180.0) / 360.0 * n)\n",
    "    ytile = int((1.0 - math.asinh(math.tan(lat_rad)) / math.pi) / 2.0 * n)\n",
    "    return (xtile, ytile)"
   ]
  },
  {
   "cell_type": "code",
   "execution_count": null,
   "metadata": {
    "execution": {
     "iopub.execute_input": "2022-09-09T16:57:24.168885Z",
     "iopub.status.busy": "2022-09-09T16:57:24.168625Z",
     "iopub.status.idle": "2022-09-09T16:57:24.265319Z",
     "shell.execute_reply": "2022-09-09T16:57:24.264553Z",
     "shell.execute_reply.started": "2022-09-09T16:57:24.168848Z"
    },
    "pycharm": {
     "is_executing": true
    }
   },
   "outputs": [],
   "source": [
    "def num2deg(xtile, ytile, zoom):\n",
    "    '''\n",
    "        Convert (x,y) to latitude, longitude tile coordinate at given zoom.\n",
    "    '''\n",
    "    n = 2.0**zoom\n",
    "    lon_deg = xtile / n * 360.0 - 180.0\n",
    "    lat_rad = math.atan(math.sinh(math.pi * (1 - 2 * ytile / n)))\n",
    "    lat_deg = math.degrees(lat_rad)\n",
    "    return (lat_deg, lon_deg)"
   ]
  },
  {
   "cell_type": "code",
   "execution_count": null,
   "metadata": {
    "execution": {
     "iopub.execute_input": "2022-09-09T16:57:24.267315Z",
     "iopub.status.busy": "2022-09-09T16:57:24.266794Z",
     "iopub.status.idle": "2022-09-09T16:57:24.364499Z",
     "shell.execute_reply": "2022-09-09T16:57:24.363820Z",
     "shell.execute_reply.started": "2022-09-09T16:57:24.267225Z"
    },
    "tags": [],
    "pycharm": {
     "is_executing": true
    }
   },
   "outputs": [],
   "source": [
    "def tiles_url(zoom, lat1, lon1, lat2, lon2):\n",
    "    ''' \n",
    "        Convert geographic bounds into a list of tile_url coordinates at given zoom.\n",
    "    '''\n",
    "    # convert to geographic bounding box\n",
    "    minlat, minlon = min(lat1, lat2), min(lon1, lon2)\n",
    "    maxlat, maxlon = max(lat1, lat2), max(lon1, lon2)\n",
    "\n",
    "    # convert to tile-space bounding box\n",
    "    xmin, ymin = deg2num(maxlat, minlon, zoom)\n",
    "    xmax, ymax = deg2num(minlat, maxlon, zoom)\n",
    "\n",
    "    # generate a list of tiles_url\n",
    "    xs, ys = range(xmin, xmax + 1), range(ymin, ymax + 1)\n",
    "    tiles_url = [(f\"s3://elevation-tiles-prod//terrarium/{zoom}/{x}/{y}.png\")\n",
    "                 for (y, x) in product(ys, xs)]\n",
    "\n",
    "    return tiles_url"
   ]
  },
  {
   "cell_type": "code",
   "execution_count": null,
   "metadata": {
    "execution": {
     "iopub.execute_input": "2022-09-09T16:57:24.365850Z",
     "iopub.status.busy": "2022-09-09T16:57:24.365595Z",
     "iopub.status.idle": "2022-09-09T16:57:24.441717Z",
     "shell.execute_reply": "2022-09-09T16:57:24.441038Z",
     "shell.execute_reply.started": "2022-09-09T16:57:24.365814Z"
    },
    "tags": [],
    "pycharm": {
     "is_executing": true
    }
   },
   "outputs": [],
   "source": [
    "data = tiles_url(7, 30, -85, 24, -79)"
   ]
  },
  {
   "cell_type": "code",
   "execution_count": 6,
   "metadata": {
    "execution": {
     "iopub.execute_input": "2022-09-09T16:57:24.444354Z",
     "iopub.status.busy": "2022-09-09T16:57:24.444118Z",
     "iopub.status.idle": "2022-09-09T16:57:24.538263Z",
     "shell.execute_reply": "2022-09-09T16:57:24.537653Z",
     "shell.execute_reply.started": "2022-09-09T16:57:24.444329Z"
    },
    "tags": []
   },
   "outputs": [
    {
     "data": {
      "application/vnd.jupyter.widget-view+json": {
       "model_id": "49dc8ae31fd2436a8b3187797c570dff",
       "version_major": 2,
       "version_minor": 0
      },
      "text/plain": [
       "VBox()"
      ]
     },
     "metadata": {},
     "output_type": "display_data"
    },
    {
     "data": {
      "application/vnd.jupyter.widget-view+json": {
       "model_id": "",
       "version_major": 2,
       "version_minor": 0
      },
      "text/plain": [
       "FloatProgress(value=0.0, bar_style='info', description='Progress:', layout=Layout(height='25px', width='50%'),…"
      ]
     },
     "metadata": {},
     "output_type": "display_data"
    },
    {
     "name": "stdout",
     "output_type": "stream",
     "text": [
      "['s3://elevation-tiles-prod//terrarium/7/33/52.png', 's3://elevation-tiles-prod//terrarium/7/34/52.png', 's3://elevation-tiles-prod//terrarium/7/35/52.png', 's3://elevation-tiles-prod//terrarium/7/33/53.png', 's3://elevation-tiles-prod//terrarium/7/34/53.png', 's3://elevation-tiles-prod//terrarium/7/35/53.png', 's3://elevation-tiles-prod//terrarium/7/33/54.png', 's3://elevation-tiles-prod//terrarium/7/34/54.png', 's3://elevation-tiles-prod//terrarium/7/35/54.png', 's3://elevation-tiles-prod//terrarium/7/33/55.png', 's3://elevation-tiles-prod//terrarium/7/34/55.png', 's3://elevation-tiles-prod//terrarium/7/35/55.png']"
     ]
    }
   ],
   "source": [
    "print(data)"
   ]
  },
  {
   "cell_type": "code",
   "execution_count": 7,
   "metadata": {
    "execution": {
     "iopub.execute_input": "2022-09-09T16:57:24.539383Z",
     "iopub.status.busy": "2022-09-09T16:57:24.539204Z",
     "iopub.status.idle": "2022-09-09T16:57:38.100280Z",
     "shell.execute_reply": "2022-09-09T16:57:38.099568Z",
     "shell.execute_reply.started": "2022-09-09T16:57:24.539360Z"
    },
    "tags": []
   },
   "outputs": [
    {
     "data": {
      "application/vnd.jupyter.widget-view+json": {
       "model_id": "6c2f123c66ea47b5b659040eb2bf7d80",
       "version_major": 2,
       "version_minor": 0
      },
      "text/plain": [
       "VBox()"
      ]
     },
     "metadata": {},
     "output_type": "display_data"
    },
    {
     "data": {
      "application/vnd.jupyter.widget-view+json": {
       "model_id": "",
       "version_major": 2,
       "version_minor": 0
      },
      "text/plain": [
       "FloatProgress(value=0.0, bar_style='info', description='Progress:', layout=Layout(height='25px', width='50%'),…"
      ]
     },
     "metadata": {},
     "output_type": "display_data"
    },
    {
     "name": "stdout",
     "output_type": "stream",
     "text": [
      "+--------------------+\n",
      "|               image|\n",
      "+--------------------+\n",
      "|[s3://elevation-t...|\n",
      "|[s3://elevation-t...|\n",
      "|[s3://elevation-t...|\n",
      "|[s3://elevation-t...|\n",
      "|[s3://elevation-t...|\n",
      "|[s3://elevation-t...|\n",
      "|[s3://elevation-t...|\n",
      "|[s3://elevation-t...|\n",
      "|[s3://elevation-t...|\n",
      "|[s3://elevation-t...|\n",
      "|[s3://elevation-t...|\n",
      "|[s3://elevation-t...|\n",
      "+--------------------+"
     ]
    }
   ],
   "source": [
    "df = spark.read.format(\"image\").load(data)\n",
    "df.show()"
   ]
  },
  {
   "cell_type": "code",
   "execution_count": 8,
   "metadata": {
    "execution": {
     "iopub.execute_input": "2022-09-09T16:57:38.101936Z",
     "iopub.status.busy": "2022-09-09T16:57:38.101750Z",
     "iopub.status.idle": "2022-09-09T16:57:38.166425Z",
     "shell.execute_reply": "2022-09-09T16:57:38.165803Z",
     "shell.execute_reply.started": "2022-09-09T16:57:38.101912Z"
    }
   },
   "outputs": [
    {
     "data": {
      "application/vnd.jupyter.widget-view+json": {
       "model_id": "344bc2becf774e5d9c2e95b10d23ce3e",
       "version_major": 2,
       "version_minor": 0
      },
      "text/plain": [
       "VBox()"
      ]
     },
     "metadata": {},
     "output_type": "display_data"
    },
    {
     "data": {
      "application/vnd.jupyter.widget-view+json": {
       "model_id": "",
       "version_major": 2,
       "version_minor": 0
      },
      "text/plain": [
       "FloatProgress(value=0.0, bar_style='info', description='Progress:', layout=Layout(height='25px', width='50%'),…"
      ]
     },
     "metadata": {},
     "output_type": "display_data"
    },
    {
     "name": "stdout",
     "output_type": "stream",
     "text": [
      "root\n",
      " |-- image: struct (nullable = true)\n",
      " |    |-- origin: string (nullable = true)\n",
      " |    |-- height: integer (nullable = true)\n",
      " |    |-- width: integer (nullable = true)\n",
      " |    |-- nChannels: integer (nullable = true)\n",
      " |    |-- mode: integer (nullable = true)\n",
      " |    |-- data: binary (nullable = true)"
     ]
    }
   ],
   "source": [
    "df.printSchema()"
   ]
  },
  {
   "cell_type": "code",
   "execution_count": 9,
   "metadata": {
    "execution": {
     "iopub.execute_input": "2022-09-09T16:57:38.168029Z",
     "iopub.status.busy": "2022-09-09T16:57:38.167770Z",
     "iopub.status.idle": "2022-09-09T16:57:39.530541Z",
     "shell.execute_reply": "2022-09-09T16:57:39.529788Z",
     "shell.execute_reply.started": "2022-09-09T16:57:38.167993Z"
    }
   },
   "outputs": [
    {
     "data": {
      "application/vnd.jupyter.widget-view+json": {
       "model_id": "838afce470c042978a1bb701f3e6de57",
       "version_major": 2,
       "version_minor": 0
      },
      "text/plain": [
       "VBox()"
      ]
     },
     "metadata": {},
     "output_type": "display_data"
    },
    {
     "data": {
      "application/vnd.jupyter.widget-view+json": {
       "model_id": "",
       "version_major": 2,
       "version_minor": 0
      },
      "text/plain": [
       "FloatProgress(value=0.0, bar_style='info', description='Progress:', layout=Layout(height='25px', width='50%'),…"
      ]
     },
     "metadata": {},
     "output_type": "display_data"
    },
    {
     "name": "stdout",
     "output_type": "stream",
     "text": [
      "+-----------------------------------------------+------+-----+----+---------+\n",
      "|origin                                         |height|width|mode|nChannels|\n",
      "+-----------------------------------------------+------+-----+----+---------+\n",
      "|s3://elevation-tiles-prod/terrarium/7/33/55.png|256   |256  |16  |3        |\n",
      "|s3://elevation-tiles-prod/terrarium/7/34/55.png|256   |256  |16  |3        |\n",
      "|s3://elevation-tiles-prod/terrarium/7/35/55.png|256   |256  |16  |3        |\n",
      "|s3://elevation-tiles-prod/terrarium/7/33/52.png|256   |256  |16  |3        |\n",
      "|s3://elevation-tiles-prod/terrarium/7/34/52.png|256   |256  |16  |3        |\n",
      "+-----------------------------------------------+------+-----+----+---------+\n",
      "only showing top 5 rows"
     ]
    }
   ],
   "source": [
    "df.select(\"image.origin\", \"image.height\", \"image.width\", \"image.mode\",\n",
    "          \"image.nChannels\").show(5, truncate=False)"
   ]
  },
  {
   "cell_type": "code",
   "execution_count": 10,
   "metadata": {
    "execution": {
     "iopub.execute_input": "2022-09-09T16:57:39.532083Z",
     "iopub.status.busy": "2022-09-09T16:57:39.531823Z",
     "iopub.status.idle": "2022-09-09T16:57:40.320984Z",
     "shell.execute_reply": "2022-09-09T16:57:40.320292Z",
     "shell.execute_reply.started": "2022-09-09T16:57:39.532047Z"
    },
    "tags": []
   },
   "outputs": [
    {
     "data": {
      "application/vnd.jupyter.widget-view+json": {
       "model_id": "c81cbc944f61456dba6614a617cc1013",
       "version_major": 2,
       "version_minor": 0
      },
      "text/plain": [
       "VBox()"
      ]
     },
     "metadata": {},
     "output_type": "display_data"
    },
    {
     "data": {
      "application/vnd.jupyter.widget-view+json": {
       "model_id": "",
       "version_major": 2,
       "version_minor": 0
      },
      "text/plain": [
       "FloatProgress(value=0.0, bar_style='info', description='Progress:', layout=Layout(height='25px', width='50%'),…"
      ]
     },
     "metadata": {},
     "output_type": "display_data"
    },
    {
     "name": "stdout",
     "output_type": "stream",
     "text": [
      "12"
     ]
    }
   ],
   "source": [
    "df.count()"
   ]
  },
  {
   "cell_type": "code",
   "execution_count": 11,
   "metadata": {
    "execution": {
     "iopub.execute_input": "2022-09-09T16:57:40.322476Z",
     "iopub.status.busy": "2022-09-09T16:57:40.322104Z",
     "iopub.status.idle": "2022-09-09T16:57:57.703022Z",
     "shell.execute_reply": "2022-09-09T16:57:57.702388Z",
     "shell.execute_reply.started": "2022-09-09T16:57:40.322439Z"
    },
    "tags": []
   },
   "outputs": [
    {
     "data": {
      "application/vnd.jupyter.widget-view+json": {
       "model_id": "62a1c01073204dec92460ec384ca12a4",
       "version_major": 2,
       "version_minor": 0
      },
      "text/plain": [
       "VBox()"
      ]
     },
     "metadata": {},
     "output_type": "display_data"
    },
    {
     "data": {
      "application/vnd.jupyter.widget-view+json": {
       "model_id": "",
       "version_major": 2,
       "version_minor": 0
      },
      "text/plain": [
       "FloatProgress(value=0.0, bar_style='info', description='Progress:', layout=Layout(height='25px', width='50%'),…"
      ]
     },
     "metadata": {},
     "output_type": "display_data"
    },
    {
     "name": "stdout",
     "output_type": "stream",
     "text": [
      "Uninstalling pip-9.0.1:\n",
      "  Successfully uninstalled pip-9.0.1\n",
      "\n",
      "Collecting pip==22.2.2\n",
      "  Using cached pip-22.2.2-py3-none-any.whl (2.0 MB)\n",
      "Installing collected packages: pip\n",
      "Successfully installed pip-22.2.2\n",
      "\n",
      "Collecting opencv-python\n",
      "  Using cached opencv_python-4.6.0.66-cp36-abi3-manylinux_2_17_x86_64.manylinux2014_x86_64.whl (60.9 MB)\n",
      "Requirement already satisfied: numpy>=1.14.5 in /usr/local/lib64/python3.7/site-packages (from opencv-python) (1.20.0)\n",
      "Installing collected packages: opencv-python\n",
      "Successfully installed opencv-python-4.6.0.66\n",
      "\n",
      "Package                    Version\n",
      "-------------------------- ----------\n",
      "aws-cfn-bootstrap          2.0\n",
      "beautifulsoup4             4.9.3\n",
      "boto                       2.49.0\n",
      "click                      8.1.1\n",
      "docutils                   0.14\n",
      "jmespath                   1.0.0\n",
      "joblib                     1.1.0\n",
      "lockfile                   0.11.0\n",
      "lxml                       4.8.0\n",
      "mysqlclient                1.4.2\n",
      "nltk                       3.7\n",
      "nose                       1.3.4\n",
      "numpy                      1.20.0\n",
      "opencv-python              4.6.0.66\n",
      "pip                        22.2.2\n",
      "py-dateutil                2.2\n",
      "pystache                   0.5.4\n",
      "python-daemon              2.2.3\n",
      "python37-sagemaker-pyspark 1.4.1\n",
      "pytz                       2022.1\n",
      "PyYAML                     5.4.1\n",
      "regex                      2021.11.10\n",
      "setuptools                 28.8.0\n",
      "simplejson                 3.2.0\n",
      "six                        1.13.0\n",
      "tqdm                       4.63.1\n",
      "wheel                      0.29.0\n",
      "windmill                   1.6\n",
      "\n",
      "You are using pip version 20.2.2, however version 22.2.2 is available.\n",
      "You should consider upgrading via the 'pip install --upgrade pip' command."
     ]
    }
   ],
   "source": [
    "# Pobranie dodatkowych paczek python-owych\n",
    "sc.uninstall_package('pip')\n",
    "# Upgrade pip\n",
    "sc.install_pypi_package(\"pip==22.2.2\")\n",
    "sc.install_pypi_package(\"opencv-python\") #Install opencv-python \n",
    "sc.list_packages()"
   ]
  },
  {
   "cell_type": "code",
   "execution_count": null,
   "metadata": {
    "execution": {
     "iopub.execute_input": "2022-09-09T16:58:38.861414Z",
     "iopub.status.busy": "2022-09-09T16:58:38.861173Z",
     "iopub.status.idle": "2022-09-09T16:58:39.125467Z",
     "shell.execute_reply": "2022-09-09T16:58:39.124859Z",
     "shell.execute_reply.started": "2022-09-09T16:58:38.861390Z"
    },
    "pycharm": {
     "is_executing": true
    }
   },
   "outputs": [],
   "source": [
    "import cv2"
   ]
  },
  {
   "cell_type": "code",
   "execution_count": null,
   "metadata": {},
   "outputs": [],
   "source": []
  }
 ],
 "metadata": {
  "colab": {
   "provenance": []
  },
  "kernelspec": {
   "display_name": "PySpark",
   "language": "python",
   "name": "pysparkkernel"
  },
  "language_info": {
   "codemirror_mode": {
    "name": "python",
    "version": 3
   },
   "file_extension": ".py",
   "mimetype": "text/x-python",
   "name": "pyspark",
   "pygments_lexer": "python3"
  },
  "toc-autonumbering": false,
  "toc-showcode": false,
  "toc-showmarkdowntxt": true
 },
 "nbformat": 4,
 "nbformat_minor": 4
}