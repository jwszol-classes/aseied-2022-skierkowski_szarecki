{
 "cells": [
  {
   "cell_type": "code",
   "execution_count": null,
   "metadata": {
    "execution": {
     "iopub.execute_input": "2022-09-09T16:56:57.386634Z",
     "iopub.status.busy": "2022-09-09T16:56:57.386406Z",
     "iopub.status.idle": "2022-09-09T16:57:24.061525Z",
     "shell.execute_reply": "2022-09-09T16:57:24.060996Z",
     "shell.execute_reply.started": "2022-09-09T16:56:57.386609Z"
    },
    "id": "3uftYuTbbTks",
    "pycharm": {
     "is_executing": true
    },
    "tags": []
   },
   "outputs": [],
   "source": [
    "import math\n",
    "from itertools import product"
   ]
  },
  {
   "cell_type": "code",
   "execution_count": null,
   "metadata": {
    "vscode": {
     "languageId": "plaintext"
    }
   },
   "outputs": [],
   "source": [
    "sc.uninstall_package('pip')\n",
    "sc.install_pypi_package(\"pip==22.2.2\")\n",
    "sc.install_pypi_package(\"opencv-python\") #Install opencv-python \n",
    "sc.install_pypi_package(\"numpy\")"
   ]
  },
  {
   "cell_type": "code",
   "execution_count": null,
   "metadata": {
    "execution": {
     "iopub.execute_input": "2022-09-09T16:57:24.062666Z",
     "iopub.status.busy": "2022-09-09T16:57:24.062490Z",
     "iopub.status.idle": "2022-09-09T16:57:24.166860Z",
     "shell.execute_reply": "2022-09-09T16:57:24.166228Z",
     "shell.execute_reply.started": "2022-09-09T16:57:24.062643Z"
    },
    "id": "lA__ecN3bTkt",
    "pycharm": {
     "is_executing": true,
     "name": "#%%\n"
    }
   },
   "outputs": [],
   "source": [
    "def deg2num(lat_deg, lon_deg, zoom):\n",
    "    '''\n",
    "        Convert latitude, longitude to (x,y) tile coordinate at given zoom.\n",
    "    '''\n",
    "    lat_rad = math.radians(lat_deg)\n",
    "    n = 2.0**zoom\n",
    "    xtile = int((lon_deg + 180.0) / 360.0 * n)\n",
    "    ytile = int((1.0 - math.asinh(math.tan(lat_rad)) / math.pi) / 2.0 * n)\n",
    "    return (xtile, ytile)"
   ]
  },
  {
   "cell_type": "code",
   "execution_count": null,
   "metadata": {
    "execution": {
     "iopub.execute_input": "2022-09-09T16:57:24.168885Z",
     "iopub.status.busy": "2022-09-09T16:57:24.168625Z",
     "iopub.status.idle": "2022-09-09T16:57:24.265319Z",
     "shell.execute_reply": "2022-09-09T16:57:24.264553Z",
     "shell.execute_reply.started": "2022-09-09T16:57:24.168848Z"
    },
    "pycharm": {
     "is_executing": true
    }
   },
   "outputs": [],
   "source": [
    "def num2deg(xtile, ytile, zoom):\n",
    "    '''\n",
    "        Convert (x,y) to latitude, longitude tile coordinate at given zoom.\n",
    "    '''\n",
    "    n = 2.0**zoom\n",
    "    lon_deg = xtile / n * 360.0 - 180.0\n",
    "    lat_rad = math.atan(math.sinh(math.pi * (1 - 2 * ytile / n)))\n",
    "    lat_deg = math.degrees(lat_rad)\n",
    "    return (lat_deg, lon_deg)"
   ]
  },
  {
   "cell_type": "code",
   "execution_count": null,
   "metadata": {
    "execution": {
     "iopub.execute_input": "2022-09-09T16:57:24.267315Z",
     "iopub.status.busy": "2022-09-09T16:57:24.266794Z",
     "iopub.status.idle": "2022-09-09T16:57:24.364499Z",
     "shell.execute_reply": "2022-09-09T16:57:24.363820Z",
     "shell.execute_reply.started": "2022-09-09T16:57:24.267225Z"
    },
    "pycharm": {
     "is_executing": true
    },
    "tags": []
   },
   "outputs": [],
   "source": [
    "def tiles_url(zoom, lat1, lon1, lat2, lon2):\n",
    "    ''' \n",
    "        Convert geographic bounds into a list of tile_url coordinates at given zoom.\n",
    "    '''\n",
    "    # convert to geographic bounding box\n",
    "    minlat, minlon = min(lat1, lat2), min(lon1, lon2)\n",
    "    maxlat, maxlon = max(lat1, lat2), max(lon1, lon2)\n",
    "\n",
    "    # convert to tile-space bounding box\n",
    "    xmin, ymin = deg2num(maxlat, minlon, zoom)\n",
    "    xmax, ymax = deg2num(minlat, maxlon, zoom)\n",
    "\n",
    "    # generate a list of tiles_url\n",
    "    xs, ys = range(xmin, xmax + 1), range(ymin, ymax + 1)\n",
    "    tiles_url = [(f\"s3://elevation-tiles-prod//terrarium/{zoom}/{x}/{y}.png\")\n",
    "                 for (y, x) in product(ys, xs)]\n",
    "\n",
    "    return tiles_url"
   ]
  },
  {
   "cell_type": "code",
   "execution_count": null,
   "metadata": {
    "execution": {
     "iopub.execute_input": "2022-09-09T16:57:24.365850Z",
     "iopub.status.busy": "2022-09-09T16:57:24.365595Z",
     "iopub.status.idle": "2022-09-09T16:57:24.441717Z",
     "shell.execute_reply": "2022-09-09T16:57:24.441038Z",
     "shell.execute_reply.started": "2022-09-09T16:57:24.365814Z"
    },
    "pycharm": {
     "is_executing": true
    },
    "tags": []
   },
   "outputs": [],
   "source": [
    "import numpy as np\n",
    "import cv2"
   ]
  },
  {
   "cell_type": "code",
   "execution_count": 6,
   "metadata": {
    "execution": {
     "iopub.execute_input": "2022-09-09T16:57:24.444354Z",
     "iopub.status.busy": "2022-09-09T16:57:24.444118Z",
     "iopub.status.idle": "2022-09-09T16:57:24.538263Z",
     "shell.execute_reply": "2022-09-09T16:57:24.537653Z",
     "shell.execute_reply.started": "2022-09-09T16:57:24.444329Z"
    },
    "tags": []
   },
   "outputs": [
    {
     "data": {
      "application/vnd.jupyter.widget-view+json": {
       "model_id": "49dc8ae31fd2436a8b3187797c570dff",
       "version_major": 2,
       "version_minor": 0
      },
      "text/plain": [
       "VBox()"
      ]
     },
     "metadata": {},
     "output_type": "display_data"
    },
    {
     "data": {
      "application/vnd.jupyter.widget-view+json": {
       "model_id": "",
       "version_major": 2,
       "version_minor": 0
      },
      "text/plain": [
       "FloatProgress(value=0.0, bar_style='info', description='Progress:', layout=Layout(height='25px', width='50%'),…"
      ]
     },
     "metadata": {},
     "output_type": "display_data"
    },
    {
     "name": "stdout",
     "output_type": "stream",
     "text": [
      "['s3://elevation-tiles-prod//terrarium/7/33/52.png', 's3://elevation-tiles-prod//terrarium/7/34/52.png', 's3://elevation-tiles-prod//terrarium/7/35/52.png', 's3://elevation-tiles-prod//terrarium/7/33/53.png', 's3://elevation-tiles-prod//terrarium/7/34/53.png', 's3://elevation-tiles-prod//terrarium/7/35/53.png', 's3://elevation-tiles-prod//terrarium/7/33/54.png', 's3://elevation-tiles-prod//terrarium/7/34/54.png', 's3://elevation-tiles-prod//terrarium/7/35/54.png', 's3://elevation-tiles-prod//terrarium/7/33/55.png', 's3://elevation-tiles-prod//terrarium/7/34/55.png', 's3://elevation-tiles-prod//terrarium/7/35/55.png']"
     ]
    }
   ],
   "source": [
    "def main():\n",
    "    data = tiles(7, 30, -85, 24, -79)\n",
    "    input_data = spark.read.format(\"image\").load(data)\n",
    "    \n",
    "    images = input_data.orderBy(\"image.origin\").select(\"image.data\")\n",
    "    \n",
    "    images = images.rdd.map(lambda img: np.reshape(img, (256,256,3)))\n",
    "    images = images.map(lambda img: cv2.cvtColor(img, cv2.COLOR_BGR2GRAY))\n",
    "    \n",
    "    # gradient \n",
    "    #gX = images.map(lambda img: cv2.Sobel(images, cv2.CV_64F, 1, 0))\n",
    "    #gY = images.map(lambda img: cv2.Sobel(images, cv2.CV_64F, 0, 1))\n",
    "    #magnitude = images.map(lambda img:np.sqrt((gX ** 2) + (gY ** 2)))\n",
    "    \n",
    "    dataColl=images.collect()\n",
    "    print(dataColl)"
   ]
  },
  {
   "cell_type": "code",
   "execution_count": 7,
   "metadata": {
    "execution": {
     "iopub.execute_input": "2022-09-09T16:57:24.539383Z",
     "iopub.status.busy": "2022-09-09T16:57:24.539204Z",
     "iopub.status.idle": "2022-09-09T16:57:38.100280Z",
     "shell.execute_reply": "2022-09-09T16:57:38.099568Z",
     "shell.execute_reply.started": "2022-09-09T16:57:24.539360Z"
    },
    "tags": []
   },
   "outputs": [
    {
     "data": {
      "application/vnd.jupyter.widget-view+json": {
       "model_id": "6c2f123c66ea47b5b659040eb2bf7d80",
       "version_major": 2,
       "version_minor": 0
      },
      "text/plain": [
       "VBox()"
      ]
     },
     "metadata": {},
     "output_type": "display_data"
    },
    {
     "data": {
      "application/vnd.jupyter.widget-view+json": {
       "model_id": "",
       "version_major": 2,
       "version_minor": 0
      },
      "text/plain": [
       "FloatProgress(value=0.0, bar_style='info', description='Progress:', layout=Layout(height='25px', width='50%'),…"
      ]
     },
     "metadata": {},
     "output_type": "display_data"
    },
    {
     "name": "stdout",
     "output_type": "stream",
     "text": [
      "+--------------------+\n",
      "|               image|\n",
      "+--------------------+\n",
      "|[s3://elevation-t...|\n",
      "|[s3://elevation-t...|\n",
      "|[s3://elevation-t...|\n",
      "|[s3://elevation-t...|\n",
      "|[s3://elevation-t...|\n",
      "|[s3://elevation-t...|\n",
      "|[s3://elevation-t...|\n",
      "|[s3://elevation-t...|\n",
      "|[s3://elevation-t...|\n",
      "|[s3://elevation-t...|\n",
      "|[s3://elevation-t...|\n",
      "|[s3://elevation-t...|\n",
      "+--------------------+"
     ]
    }
   ],
   "source": [
    "main()"
   ]
  }
 ],
 "metadata": {
  "colab": {
   "provenance": []
  },
  "kernelspec": {
   "display_name": "PySpark",
   "language": "python",
   "name": "pysparkkernel"
  },
  "language_info": {
   "codemirror_mode": {
    "name": "python",
    "version": 3
   },
   "file_extension": ".py",
   "mimetype": "text/x-python",
   "name": "pyspark",
   "pygments_lexer": "python3"
  },
  "toc-autonumbering": false,
  "toc-showcode": false,
  "toc-showmarkdowntxt": true
 },
 "nbformat": 4,
 "nbformat_minor": 4
}
